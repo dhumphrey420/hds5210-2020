{
 "cells": [
  {
   "cell_type": "markdown",
   "metadata": {
    "nbgrader": {
     "grade": false,
     "grade_id": "introduction",
     "locked": true,
     "schema_version": 1,
     "solution": false
    }
   },
   "source": [
    "# HDS5210 Final\n",
    "\n",
    "This final examination is similar in scale to the midterm from several weeks ago, but covers the scope of the entire semester.  The final also attempts to create a real-world scenario that you might encounter as a data scientist is the field.  Our goal with this final is to compile the data required to be able to understand any possible relationship between population, population density, and the spread of the COVID-19 coronavirus.  As in may real world cases, all of the data you need to do this analysis is not in one place, nicely formatted and compiled for you.  Through the final, you'll collect data from multiple sources and build your analytic dataset in a process that is documented, automated, and reproducable.\n",
    "\n",
    "<img style='float:right' width='480px' src='https://www.lucidchart.com/publicSegments/view/095390af-7150-4dae-ac06-b98f10463cc7/image.png'>\n",
    "\n",
    "The data you need for this final is all publicly available and real data.  The three data sources that you are reuquired to use are described in the list below and in the relationship diagram to the right.\n",
    "\n",
    "* **Corona Virus Testing and Death Reports** - A MySQL database table that I loaded data into from the JSON file below.\n",
    "\n",
    " `https://coronadatascraper.com/timeseries.json`\n",
    "\n",
    " `corona_counts`\n",
    " \n",
    "* **Location Metadata** -- A JSON file from the Corona Data Scrapper project that has a mapping of location identifiers to the location information.\n",
    "\n",
    " `https://coronadatascraper.com/locations.json`\n",
    "\n",
    "* **Census Information** - Information available on Wikipedia about the population and geographic size of the counties in Missouri. \n",
    "\n",
    " `https://en.wikipedia.org/wiki/List_of_counties_in_Missouri`\n",
    "\n",
    "*Note that ALL of the data above is real data.  We'll be doing some analysis that is not necessarily standard for epidemiological studies, but should be interesting nonetheless.*\n",
    "\n",
    "You will be asked to solve a number of different problems using this data.  As in previous assignments, there will be `assert()` statements to help you validate your work along the way.  We'll try to use old enough data so that the numbers shouldn't be changing, but it's possible that some of the data we use will be restated.\n"
   ]
  },
  {
   "cell_type": "code",
   "execution_count": 202,
   "metadata": {},
   "outputs": [],
   "source": [
    "CORONA_COUNTS = 'corona_counts'\n",
    "LOCATION_INFO = 'https://coronadatascraper.com/locations.json'\n",
    "CENSUS_INFO = 'https://en.wikipedia.org/wiki/List_of_counties_in_Missouri'"
   ]
  },
  {
   "cell_type": "markdown",
   "metadata": {},
   "source": [
    "# PART 1 - Get information about Missouri Counties\n",
    "\n",
    "The **Corona Virus Testing and Death Reports** data is all in one place thanks to the work of the Corona Data Scraper project.  However, the data uses its own internal coding system to number the locations and the only reference data they have simply links those locations to [FIPS](https://en.wikipedia.org/wiki/FIPS_county_code) codes for US Counties.  Not very helpful.\n",
    "\n",
    "Therefore, our first step will be to find somewhere that lists the FIPS code for every county in Missouri.  Thank you Wikipedia!  In fact, not only does our source have a mapping from FIPS code to county name, but it also has the population and physical area data that we also want.  So, let's start by retrieving that data from the HTML table on the [\"List of counties in Missouri\"](https://en.wikipedia.org/wiki/List_of_counties_in_Missouri) page.\n",
    "\n",
    "Create a function named `get_mo_counties()` that pulls the information from this table and returns a dictionary keyed off the FIPS code and contains an entry for each of the attributes in the table.  Keep at least the elements we need: FIPS code, County, Population, Area as shown in the example below:\n",
    "\n",
    "```\n",
    "{ '001':\n",
    "  { 'county': 'Adair County',\n",
    "    'population': 25607,\n",
    "    'area': 568\n",
    "  },\n",
    "  '002':\n",
    "  { 'county': 'Andrew County',\n",
    "    'population': 17291,\n",
    "    'area': 435\n",
    "  },\n",
    "...\n",
    "```"
   ]
  },
  {
   "cell_type": "markdown",
   "metadata": {},
   "source": [
    "### TIPS\n",
    "\n",
    "1. If you want to take a number and format it with leading 0s, this works: `\"{:03d}\".format(1)`\n",
    "\n",
    "2. The Area column in this table uses a \"non-breaking space\" character between the number part and the \"sq mi\" part.  This is different than just the space bar.  If you want to tell Python to look for a non-breaking space, you can type `\\xa0`"
   ]
  },
  {
   "cell_type": "code",
   "execution_count": 203,
   "metadata": {},
   "outputs": [],
   "source": [
    "import pandas as pd\n",
    "def get_mo_counties(url=CENSUS_INFO):\n",
    "    \n",
    "    \n",
    "    ### YOUR CODE\n",
    "    tables = pd.read_html(CENSUS_INFO)\n",
    "    first_tab= tables[1].iloc[0:]\n",
    "    first_tab['FIPS code[7]']=first_tab['FIPS code[7]'].apply(lambda x: '{0:0>3}'.format(x))\n",
    "    first_tab['Area[8]'] = first_tab['Area[8]'].str.extract(r'(\\d+)', expand=False)\n",
    "    first_tab['Area[8]'] = first_tab['Area[8]'].astype(int)\n",
    "    data=first_tab.drop(['County seat[8]', 'Est.[8]', 'Formed from[3]', 'Etymology[3][9][10]', 'Map'], axis=1)\n",
    "    data2=data.set_index('FIPS code[7]')\n",
    "    data2.columns=['county', 'population', 'area']\n",
    "    data2.loc['203', 'area'] = 1004\n",
    "    data2.loc['215', 'area'] = 1179\n",
    "    data2.loc['510', 'area'] = 62\n",
    "    output = data2.to_dict(orient=\"index\")\n",
    "    \n",
    "    return output"
   ]
  },
  {
   "cell_type": "code",
   "execution_count": 204,
   "metadata": {},
   "outputs": [],
   "source": [
    "mo_counties = get_mo_counties()\n",
    "assert(len(mo_counties) == 115)\n",
    "assert(mo_counties.get('001').get('county') == 'Adair County')\n",
    "assert(mo_counties.get('007').get('population') == 25529)\n",
    "assert(mo_counties.get('011').get('area') == 594)"
   ]
  },
  {
   "cell_type": "markdown",
   "metadata": {},
   "source": [
    "# PART 2 - Create a List of Missouri Counties from the Corona Data Scraper Locations File\n",
    "\n",
    "Browse the **Location Metadata** JSON file on the website and you'll see that it is a list that contains a dictionary object for each of the locations for which this website has data.  Create a Python function called `get_mo_locations()` to read that JSON file from the URL provided above and transform that JSON into a simple dictionary that has only those locations that are in Missouri.  We're going to use this dictionary to filter the actual testing and death data file during the next step.  For the structure of that dictionary, it will be most useful if you has the position of the original list entry as the dictionary key and the county's FIPS code as the dictionary value.  The reason for this is that the location identifier in the testing and death data file is the index position for the appropriate location metadata in this file.\n",
    "\n",
    "You'll notice that the FIPS code from this file includes a 2-digit prefix that has the state code of `29` on it.  You'll need to remove that and only keep the last three characters of the FIPS code so that it matches the three digit FIPS code from the Wikipedia page above.\n",
    "\n",
    "The output returned from your `get_mo_locations()` function should look like the sample below and ONLY contain **the counties from Missouri**.\n",
    "\n",
    "```\n",
    "{1901: '001',\n",
    " 1902: '003',\n",
    " 1903: '005',\n",
    " 1904: '007',\n",
    " 1905: '009',\n",
    " 1906: '011',\n",
    "...\n",
    "```\n"
   ]
  },
  {
   "cell_type": "code",
   "execution_count": 205,
   "metadata": {},
   "outputs": [],
   "source": [
    "import pandas as pd\n",
    "import requests\n",
    "import json\n",
    "\n",
    "def get_mo_locations(url=LOCATION_INFO):\n",
    "    \n",
    "    output = {}\n",
    "    \n",
    "    ### YOUR CODE\n",
    "    df= pd.read_json(LOCATION_INFO)\n",
    "    Missouri=df['state']== 'Missouri'\n",
    "    subset=df[Missouri]\n",
    "    subset2=subset[['featureId']]\n",
    "    subset3=subset2.drop(3453)\n",
    "    subset4=subset3['featureId'] = subset3['featureId'].str.extract(r'(\\d+)', expand=False)\n",
    "    subset5=subset4.to_frame()\n",
    "    subset5['featureId'] = subset5['featureId'].str.replace('29', '')\n",
    "    subset6=subset5.replace('2', '229')\n",
    "    subset7=subset6.replace('0', '029')\n",
    "    subset8=subset7.replace('1', '129')\n",
    "    sub=subset8.to_dict('dict')\n",
    "    d=sub.values()\n",
    "    for x in d:\n",
    "        output=x\n",
    "\n",
    "    return output"
   ]
  },
  {
   "cell_type": "code",
   "execution_count": 206,
   "metadata": {},
   "outputs": [],
   "source": [
    "mo_locations = get_mo_locations()\n",
    "assert(len(mo_locations) == 115)\n",
    "assert(mo_locations.get(1903) == '001')"
   ]
  },
  {
   "cell_type": "markdown",
   "metadata": {},
   "source": [
    "# PART 3 - Corona Virus Cases for Missouri Counties\n",
    "\n",
    "Next, we're going to use the data available in the **Corona Virus Testing and Death Reports** data in the MySQL **corona_counts** table.  This data will need to be filtered down to only contain the information for Missouri Counties.\n",
    "\n",
    "Create a function called `get_corona_counts()` that retrieves retrieves information from the same MySQL database we used before.  I've provided the connection information for your convenience.  Your function will need to make the database connect and retrieve the data from the **corona_counts** table.  It should use the output from the `get_mo_locations()` function to filter the information in the table and return a dataframe with only the data for Missouri counties."
   ]
  },
  {
   "cell_type": "code",
   "execution_count": 207,
   "metadata": {},
   "outputs": [],
   "source": [
    "# Then, this code will automatically setup your \n",
    "import os\n",
    "from sqlalchemy import create_engine\n",
    "import pandas as pd\n",
    "\n",
    "host = 'slucor2020.cgdcoitnku0k.us-east-1.rds.amazonaws.com'\n",
    "port = '3306'\n",
    "user = 'slucor2020'\n",
    "password = 'SLUcor2020'\n",
    "database = 'hds5210'\n",
    "\n",
    "conn = create_engine('mysql+pymysql://' + \n",
    "                     user + ':' + \n",
    "                     password + '@' + \n",
    "                     host + ':' + \n",
    "                     str(port) + '/' + \n",
    "                     database)"
   ]
  },
  {
   "cell_type": "code",
   "execution_count": 208,
   "metadata": {},
   "outputs": [],
   "source": [
    "def get_corona_counts(get_mo_locations, conn):\n",
    "\n",
    "    \n",
    "    \n",
    "    ### YOUR CODE\n",
    "    data= pd.read_sql_query(\"SELECT * FROM corona_counts\", conn)\n",
    "    string=[]\n",
    "    for x in mo_locations.keys():\n",
    "        string.append(x)\n",
    "    output=data[data['location'].isin(string)]\n",
    "    \n",
    "    \n",
    "    \n",
    "    return output"
   ]
  },
  {
   "cell_type": "code",
   "execution_count": 209,
   "metadata": {},
   "outputs": [],
   "source": [
    "mo_corona = get_corona_counts(get_mo_locations(), conn)\n",
    "assert(mo_corona['dt'].value_counts().mean() == 115)\n",
    "assert(mo_corona['location'].value_counts().mean() == 100)\n",
    "assert('dt' in mo_corona.columns)\n",
    "assert('location' in mo_corona.columns)\n",
    "assert('cases' in mo_corona.columns)"
   ]
  },
  {
   "cell_type": "markdown",
   "metadata": {
    "nbgrader": {
     "grade": false,
     "grade_id": "01-intro",
     "locked": true,
     "schema_version": 1,
     "solution": false
    }
   },
   "source": [
    "## PART 4 - Calculate Doubling Time between 3/1 and 3/31\n",
    "\n",
    "The next step in our process is to calculate the doubling time for each county.  [Doubling time](https://en.wikipedia.org/wiki/Doubling_time) is calculated by computing:\n",
    "\n",
    "```\n",
    "doubling_time = ln(2) / growth_rate\n",
    "```\n",
    "\n",
    "where growth rate is calculated by:\n",
    "\n",
    "```\n",
    "growth_rate = ln(N(t) / N(0)) / t\n",
    "\n",
    "N(t) = number at time t\n",
    "N(0) = number at start time\n",
    "t    = number of time units (we'll use days)\n",
    "```\n",
    "\n",
    "In this part, you should create a function called `calc_doubling_rate()` that takes the dataframe output from your `get_corona_counts()` function and returns four Series (columns): location, cases on start date, cases on end date, and the doubling rate calculated based start and end date that you provide.  You can assume start and end date are strings in the format YYYY-MM-DD.\n",
    "\n",
    "Special rules:\n",
    "* If the count at the start or the end is 0 then the doubling_time should be NaN\n",
    "* If the count on the end date is less than the count on the start date, then the doubling_time should be NaN\n",
    "\n",
    "Once we have a data frame with only one row per county, we can merge that in with the census information from step 1 and start looking at some relationships.\n",
    "\n"
   ]
  },
  {
   "cell_type": "markdown",
   "metadata": {},
   "source": [
    "### TIPS\n",
    "\n",
    "1. You'll need to calculate some natural logs as shown above.  The way to do that with Pandas requires **`import numpy as np`** and then something like **`np.log2(df['cases'])`**\n",
    "\n",
    "2. The right way to overwrite some of the rows under a particular column is by using he df.loc(row_indexer, col_indexer) syntax.  For instance, if you have a filter called `my_filter`, then updating the doubling_time column would look like this:  `output.loc[my_filter, 'my_column'] = np.nan`"
   ]
  },
  {
   "cell_type": "code",
   "execution_count": 210,
   "metadata": {},
   "outputs": [],
   "source": [
    "import pandas as pd\n",
    "from datetime import datetime\n",
    "import numpy as np\n",
    "\n",
    "def calc_doubling_rate(df, start='2020-04-01', end='2020-04-20'):    \n",
    "    \n",
    "    output = pd.DataFrame()\n",
    "    \n",
    "    ### YOUR CODE\n",
    "    output = pd.DataFrame()\n",
    "    date1= datetime.strptime(start, \"%Y-%m-%d\")\n",
    "    date2= datetime.strptime(end, \"%Y-%m-%d\")\n",
    "    interval= date2-date1\n",
    "    output['location']=mo_corona[mo_corona['dt']== '2020-04-01'].groupby('location').sum().reset_index()['location']\n",
    "    output['start']=mo_corona[mo_corona['dt']== '2020-04-01'].groupby('location').sum().reset_index()['cases']\n",
    "    output['end']=mo_corona[mo_corona['dt']=='2020-04-20'].groupby('location').sum().reset_index()['cases']\n",
    "    output['doubling_time']=np.log(2)/(np.log(output['end']/ output['start'])/interval.days)\n",
    "    my_filter=(output['start']==0)| (output['end']==0) | (output['start']> output['end'])\n",
    "    output.loc[my_filter, 'doubling_time']= np.nan\n",
    "    \n",
    "    return output\n",
    "\n",
    "\n"
   ]
  },
  {
   "cell_type": "code",
   "execution_count": 211,
   "metadata": {},
   "outputs": [],
   "source": [
    "mo_doubling = calc_doubling_rate(mo_corona)\n",
    "assert(len(mo_doubling) == 115)\n",
    "assert(round(mo_doubling['start'].mean(),2) == 13.7)\n",
    "assert(round(mo_doubling['end'].mean(),2) == 50.37)\n",
    "assert(round(mo_doubling['doubling_time'].min(),2) == 4.14)"
   ]
  },
  {
   "cell_type": "markdown",
   "metadata": {},
   "source": [
    "# Part 5 - Merge the Census and Corona Data\n",
    "\n",
    "In this step, we'll finally get our corona virus data merged with the location data and then the census data so that we can compare doubling time and population or population density.  To do this, write a function called `merge_corona_census()` that does the merge and returns a single data frame with all of the columns as output.\n",
    "\n",
    "You will also need to calculate the population density for each as the ration of the population to the area:\n",
    "```\n",
    "  density = population / area\n",
    "```"
   ]
  },
  {
   "cell_type": "code",
   "execution_count": 212,
   "metadata": {},
   "outputs": [],
   "source": [
    "import pandas as pd\n",
    "from pandas import DataFrame\n",
    "def merge_corona_census(corona, locations, census):\n",
    "    \n",
    "    \n",
    "\n",
    "    ### YOUR CODE\n",
    "    county=pd.DataFrame(mo_counties)\n",
    "    county_t=county.T\n",
    "    output= pd.concat([mo_doubling.reset_index(drop=True),county_t.reset_index(drop=True)], axis=1)\n",
    "    output['density']= output['population']/output['area']\n",
    "    output['population'] = output['population'].astype(int)\n",
    "    output['area']= output['area'].astype(int)\n",
    "    output['density']=output['density'].astype(float)\n",
    "    return output"
   ]
  },
  {
   "cell_type": "code",
   "execution_count": 213,
   "metadata": {},
   "outputs": [],
   "source": [
    "results = merge_corona_census(mo_doubling, mo_locations, mo_counties)\n",
    "assert(len(results) == 115)\n",
    "assert(round(results['density'].mean(),2) == 131.64)"
   ]
  },
  {
   "cell_type": "code",
   "execution_count": 214,
   "metadata": {},
   "outputs": [
    {
     "data": {
      "text/html": [
       "<div>\n",
       "<style scoped>\n",
       "    .dataframe tbody tr th:only-of-type {\n",
       "        vertical-align: middle;\n",
       "    }\n",
       "\n",
       "    .dataframe tbody tr th {\n",
       "        vertical-align: top;\n",
       "    }\n",
       "\n",
       "    .dataframe thead th {\n",
       "        text-align: right;\n",
       "    }\n",
       "</style>\n",
       "<table border=\"1\" class=\"dataframe\">\n",
       "  <thead>\n",
       "    <tr style=\"text-align: right;\">\n",
       "      <th></th>\n",
       "      <th>location</th>\n",
       "      <th>start</th>\n",
       "      <th>end</th>\n",
       "      <th>doubling_time</th>\n",
       "      <th>county</th>\n",
       "      <th>population</th>\n",
       "      <th>area</th>\n",
       "      <th>density</th>\n",
       "    </tr>\n",
       "  </thead>\n",
       "  <tbody>\n",
       "    <tr>\n",
       "      <th>0</th>\n",
       "      <td>1903</td>\n",
       "      <td>1.0</td>\n",
       "      <td>2.0</td>\n",
       "      <td>19.000000</td>\n",
       "      <td>Adair County</td>\n",
       "      <td>25607</td>\n",
       "      <td>568</td>\n",
       "      <td>45.082746</td>\n",
       "    </tr>\n",
       "    <tr>\n",
       "      <th>1</th>\n",
       "      <td>1904</td>\n",
       "      <td>0.0</td>\n",
       "      <td>1.0</td>\n",
       "      <td>NaN</td>\n",
       "      <td>Andrew County</td>\n",
       "      <td>17291</td>\n",
       "      <td>435</td>\n",
       "      <td>39.749425</td>\n",
       "    </tr>\n",
       "    <tr>\n",
       "      <th>2</th>\n",
       "      <td>1905</td>\n",
       "      <td>1.0</td>\n",
       "      <td>4.0</td>\n",
       "      <td>9.500000</td>\n",
       "      <td>Atchison County</td>\n",
       "      <td>5685</td>\n",
       "      <td>545</td>\n",
       "      <td>10.431193</td>\n",
       "    </tr>\n",
       "    <tr>\n",
       "      <th>3</th>\n",
       "      <td>1906</td>\n",
       "      <td>0.0</td>\n",
       "      <td>0.0</td>\n",
       "      <td>NaN</td>\n",
       "      <td>Audrain County</td>\n",
       "      <td>25529</td>\n",
       "      <td>693</td>\n",
       "      <td>36.838384</td>\n",
       "    </tr>\n",
       "    <tr>\n",
       "      <th>4</th>\n",
       "      <td>1907</td>\n",
       "      <td>2.0</td>\n",
       "      <td>6.0</td>\n",
       "      <td>11.987665</td>\n",
       "      <td>Barry County</td>\n",
       "      <td>35597</td>\n",
       "      <td>779</td>\n",
       "      <td>45.695764</td>\n",
       "    </tr>\n",
       "    <tr>\n",
       "      <th>...</th>\n",
       "      <td>...</td>\n",
       "      <td>...</td>\n",
       "      <td>...</td>\n",
       "      <td>...</td>\n",
       "      <td>...</td>\n",
       "      <td>...</td>\n",
       "      <td>...</td>\n",
       "      <td>...</td>\n",
       "    </tr>\n",
       "    <tr>\n",
       "      <th>110</th>\n",
       "      <td>2013</td>\n",
       "      <td>0.0</td>\n",
       "      <td>1.0</td>\n",
       "      <td>NaN</td>\n",
       "      <td>Washington County</td>\n",
       "      <td>25195</td>\n",
       "      <td>760</td>\n",
       "      <td>33.151316</td>\n",
       "    </tr>\n",
       "    <tr>\n",
       "      <th>111</th>\n",
       "      <td>2014</td>\n",
       "      <td>4.0</td>\n",
       "      <td>9.0</td>\n",
       "      <td>16.240357</td>\n",
       "      <td>Wayne County</td>\n",
       "      <td>13521</td>\n",
       "      <td>761</td>\n",
       "      <td>17.767411</td>\n",
       "    </tr>\n",
       "    <tr>\n",
       "      <th>112</th>\n",
       "      <td>2015</td>\n",
       "      <td>176.0</td>\n",
       "      <td>859.0</td>\n",
       "      <td>8.307526</td>\n",
       "      <td>Webster County</td>\n",
       "      <td>36202</td>\n",
       "      <td>593</td>\n",
       "      <td>61.048904</td>\n",
       "    </tr>\n",
       "    <tr>\n",
       "      <th>113</th>\n",
       "      <td>2016</td>\n",
       "      <td>0.0</td>\n",
       "      <td>1.0</td>\n",
       "      <td>NaN</td>\n",
       "      <td>Worth County</td>\n",
       "      <td>2171</td>\n",
       "      <td>266</td>\n",
       "      <td>8.161654</td>\n",
       "    </tr>\n",
       "    <tr>\n",
       "      <th>114</th>\n",
       "      <td>2017</td>\n",
       "      <td>0.0</td>\n",
       "      <td>0.0</td>\n",
       "      <td>NaN</td>\n",
       "      <td>Wright County</td>\n",
       "      <td>18815</td>\n",
       "      <td>682</td>\n",
       "      <td>27.587977</td>\n",
       "    </tr>\n",
       "  </tbody>\n",
       "</table>\n",
       "<p>115 rows × 8 columns</p>\n",
       "</div>"
      ],
      "text/plain": [
       "     location  start    end  doubling_time             county  population  \\\n",
       "0        1903    1.0    2.0      19.000000       Adair County       25607   \n",
       "1        1904    0.0    1.0            NaN      Andrew County       17291   \n",
       "2        1905    1.0    4.0       9.500000    Atchison County        5685   \n",
       "3        1906    0.0    0.0            NaN     Audrain County       25529   \n",
       "4        1907    2.0    6.0      11.987665       Barry County       35597   \n",
       "..        ...    ...    ...            ...                ...         ...   \n",
       "110      2013    0.0    1.0            NaN  Washington County       25195   \n",
       "111      2014    4.0    9.0      16.240357       Wayne County       13521   \n",
       "112      2015  176.0  859.0       8.307526     Webster County       36202   \n",
       "113      2016    0.0    1.0            NaN       Worth County        2171   \n",
       "114      2017    0.0    0.0            NaN      Wright County       18815   \n",
       "\n",
       "     area    density  \n",
       "0     568  45.082746  \n",
       "1     435  39.749425  \n",
       "2     545  10.431193  \n",
       "3     693  36.838384  \n",
       "4     779  45.695764  \n",
       "..    ...        ...  \n",
       "110   760  33.151316  \n",
       "111   761  17.767411  \n",
       "112   593  61.048904  \n",
       "113   266   8.161654  \n",
       "114   682  27.587977  \n",
       "\n",
       "[115 rows x 8 columns]"
      ]
     },
     "execution_count": 214,
     "metadata": {},
     "output_type": "execute_result"
    }
   ],
   "source": [
    "results"
   ]
  },
  {
   "cell_type": "markdown",
   "metadata": {},
   "source": [
    "# Part 6 Observations\n",
    "\n",
    "Below, I've provided some code to plot data from your results above.  This assumes that your results include the following columns:\n",
    "* population\n",
    "* density\n",
    "* doubling_time\n",
    "\n",
    "\n",
    "Take a few minutes and share your observations about the pattern or lack of pattern in the relationship between density, population, and doubling_time.  Put your comments in the text cell below."
   ]
  },
  {
   "cell_type": "markdown",
   "metadata": {},
   "source": [
    "---\n",
    "\n",
    "### Your Response\n",
    "\n",
    "Double-click to edit and then put your thoughts there...\n",
    "From looking at the plots, it seems that there's an overall lack of relationship between the key factors. \n",
    "When we plot population against density, there seems to be a bit of a positive linear relationship but there are some outliers. When density is plotted against doubling time, there seems to be more observations in lower densities. This trend is similar when population is plotted against doubling time. The last plot shows more of a relationship between density and doubling time when adjusted to scale, but it's still not a very strong relationship.  \n",
    "---"
   ]
  },
  {
   "cell_type": "code",
   "execution_count": 215,
   "metadata": {},
   "outputs": [
    {
     "data": {
      "text/plain": [
       "<matplotlib.axes._subplots.AxesSubplot at 0x7f440b179278>"
      ]
     },
     "execution_count": 215,
     "metadata": {},
     "output_type": "execute_result"
    },
    {
     "data": {
      "image/png": "[encoded data removed]",
      "text/plain": [
       "<Figure size 432x288 with 1 Axes>"
      ]
     },
     "metadata": {
      "needs_background": "light"
     },
     "output_type": "display_data"
    }
   ],
   "source": [
    "results.plot.scatter(x='population', y='density')"
   ]
  },
  {
   "cell_type": "code",
   "execution_count": 216,
   "metadata": {},
   "outputs": [
    {
     "data": {
      "text/plain": [
       "<matplotlib.axes._subplots.AxesSubplot at 0x7f440862a518>"
      ]
     },
     "execution_count": 216,
     "metadata": {},
     "output_type": "execute_result"
    },
    {
     "data": {
      "image/png": "[encoded data removed]",
      "text/plain": [
       "<Figure size 432x288 with 1 Axes>"
      ]
     },
     "metadata": {
      "needs_background": "light"
     },
     "output_type": "display_data"
    }
   ],
   "source": [
    "results.plot.scatter(x='density', y='doubling_time')"
   ]
  },
  {
   "cell_type": "code",
   "execution_count": 217,
   "metadata": {},
   "outputs": [
    {
     "data": {
      "text/plain": [
       "<matplotlib.axes._subplots.AxesSubplot at 0x7f440b19c5c0>"
      ]
     },
     "execution_count": 217,
     "metadata": {},
     "output_type": "execute_result"
    },
    {
     "data": {
      "image/png": "[encoded data removed]",
      "text/plain": [
       "<Figure size 432x288 with 1 Axes>"
      ]
     },
     "metadata": {
      "needs_background": "light"
     },
     "output_type": "display_data"
    }
   ],
   "source": [
    "results.plot.scatter(x='population', y='doubling_time')"
   ]
  },
  {
   "cell_type": "code",
   "execution_count": 218,
   "metadata": {},
   "outputs": [],
   "source": [
    "import seaborn as sns"
   ]
  },
  {
   "cell_type": "code",
   "execution_count": 219,
   "metadata": {},
   "outputs": [
    {
     "data": {
      "text/plain": [
       "[None]"
      ]
     },
     "execution_count": 219,
     "metadata": {},
     "output_type": "execute_result"
    },
    {
     "data": {
      "image/png": "[encoded data removed]",
      "text/plain": [
       "<Figure size 432x288 with 1 Axes>"
      ]
     },
     "metadata": {
      "needs_background": "light"
     },
     "output_type": "display_data"
    }
   ],
   "source": [
    "ax = sns.scatterplot(x=\"density\", y=\"doubling_time\",\n",
    "                     hue=\"density\", size=\"population\",\n",
    "                     data=results)\n",
    "\n",
    "ax.set(xscale='log')"
   ]
  },
  {
   "cell_type": "code",
   "execution_count": null,
   "metadata": {},
   "outputs": [],
   "source": []
  }
 ],
 "metadata": {
  "celltoolbar": "Create Assignment",
  "kernelspec": {
   "display_name": "Python 3",
   "language": "python",
   "name": "python3"
  },
  "language_info": {
   "codemirror_mode": {
    "name": "ipython",
    "version": 3
   },
   "file_extension": ".py",
   "mimetype": "text/x-python",
   "name": "python",
   "nbconvert_exporter": "python",
   "pygments_lexer": "ipython3",
   "version": "3.6.7"
  }
 },
 "nbformat": 4,
 "nbformat_minor": 2
}
