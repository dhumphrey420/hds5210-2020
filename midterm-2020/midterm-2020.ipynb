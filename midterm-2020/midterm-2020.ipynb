{
 "cells": [
  {
   "cell_type": "markdown",
   "metadata": {},
   "source": [
    "# HDS5210-2020 Midterm\n",
    "\n",
    "In the midterm, you're going to focus on using the programming skills that you've developed so far to build a calculator for the Apache II scoring system for ICU Mortality.  \n",
    "* https://www.mdcalc.com/apache-ii-score#evidence\n",
    "* https://reference.medscape.com/calculator/apache-ii-scoring-system\n",
    "\n",
    "For the midterm, we'll be building a calculator for the Apache II score and then running that against a patient file that's available to you out on the internet.  This will be broken down into three main steps:\n",
    "1. Create your JSON file to encapsulate all of the calculation rules for Apache II\n",
    "2. Create functions to calculate the Apache II score using your JSON configuration\n",
    "3. Create a function to loop over the patients in a file on the internet and calculate Apach II scores for all of them\n",
    "\n"
   ]
  },
  {
   "cell_type": "markdown",
   "metadata": {},
   "source": [
    "---\n",
    "\n",
    "## Part 1: Creating a JSON Rules File\n",
    "\n",
    "Look at the rules for the Apache II scoring system on the pages above.  The first step in the midterm is to use those rules and create a JSON configuration file as described in the 2019 midterm video.  I've provided a starter file named `apache.json` to get you started.\n",
    "\n",
    "Inside that file, you'll find placeholders for all of the measures that go into the Apache II scoring model:\n",
    "* Organ Failure History\n",
    "* Age\n",
    "* Temperature\n",
    "* [pH](https://en.wikipedia.org/wiki/PH)\n",
    "* Heart rate\n",
    "* Respiratory rate\n",
    "* [Sodium](https://www.mayoclinic.org/diseases-conditions/hyponatremia/symptoms-causes/syc-20373711)\n",
    "* [Potassium](https://www.emedicinehealth.com/hyperkalemia/article_em.htm)\n",
    "* [Creatinine](https://www.medicalnewstoday.com/articles/322380)\n",
    "* [Hematocrit](https://labtestsonline.org/tests/hematocrit)\n",
    "* White Blood Count\n",
    "* [FiO2](https://www.ausmed.com/cpd/articles/oxygen-flow-rate-and-fio2)\n",
    "* [PaO2](https://www.verywellhealth.com/partial-pressure-of-oyxgen-pa02-914920)\n",
    "* [A-a gradient](https://www.ncbi.nlm.nih.gov/books/NBK545153/)\n",
    "\n",
    "\n",
    "You may need to create a sort of nested set of rules in some cases.  For instance, the rule for Creatinine says to use certain ranges and points in the case of Acute Renal Failure and a different set of points for Chronic Renal Failure.\n",
    "\n",
    "Similarly, the rule for FiO2 says to use PaO2 to calculate scores if the FiO2 is <50, and to use A-a Gradient if the PaO2 is >50.\n",
    "\n",
    "When you've created your `apache.json` file, make sure it's in the same directory as this notebook."
   ]
  },
  {
   "cell_type": "markdown",
   "metadata": {},
   "source": [
    "### Testing your JSON\n",
    "\n",
    "The assert() functions below should all run just fine.  If you want to change the names of any of the keys in the JSON I provided you, you may, but you'll also need to update this test code so that it doesn't fail.  Remember, your notebook should be able to run end-to-end before you submit it."
   ]
  },
  {
   "cell_type": "code",
   "execution_count": 1,
   "metadata": {},
   "outputs": [],
   "source": [
    "import json\n",
    "\n",
    "with open('apache.json') as f:\n",
    "    rules = json.load(f)\n",
    "\n",
    "assert('Organ Failure History' in rules.keys())\n",
    "assert('Age' in rules.keys())\n",
    "assert('Temperature' in rules.keys())\n",
    "assert('pH' in rules.keys())\n",
    "assert('Heart Rate' in rules.keys())\n",
    "assert('Respiratory Rate' in rules.keys())\n",
    "assert('Sodium' in rules.keys())\n",
    "assert('Potassium' in rules.keys())\n",
    "assert('Creatinine' in rules.keys())\n",
    "assert('Hematocrit' in rules.keys())\n",
    "assert('White Blood Count' in rules.keys())\n",
    "assert('FiO2' in rules.keys())"
   ]
  },
  {
   "cell_type": "markdown",
   "metadata": {},
   "source": [
    "---\n",
    "\n",
    "## Part 2: Functions to evaluate rules\n",
    "\n",
    "Write a series of functions, enough to satisfy all of the main criteria that we're using to calculate the Apache II score.  That list is the same as the assert statements above.\n",
    "\n",
    "* Each of your functions should be well documented.\n",
    "* Each function should have \"config_file\" as one of it's parameters.\n",
    "* Each function should return a numerical score value.\n",
    "* Similar to what we discussed in the review, if you can generalize some rules, do so.  You should **NOT** end up with one function for each input variable.  If you did that, you'd have a lot of repetative code.\n",
    "\n",
    "The Glasgow Coma Scale is simply a 1-to-1 score translation.  Simply add the Glasgow Coma Scale value.  So, you don't need to write a function for this. [Glasgow Coma Scale](https://www.cdc.gov/masstrauma/resources/gcs.pdf)\n",
    "\n",
    "**CORRECTION ADDED 2/29** - The Glasgow Coma Scale points should be calculated as `1 - Glasgow Coma Scale` rather than what I just stated above.  My preference would be that you do the calculation correctly, as per MDCalc, and then use the **corrected** scores files to compare against as noted in Part 4."
   ]
  },
  {
   "cell_type": "code",
   "execution_count": 2,
   "metadata": {},
   "outputs": [],
   "source": [
    "import json\n",
    "\n",
    "def organ_failure_history(organ_failure, config_file):\n",
    "    \"\"\" int, str -> int\n",
    "    This function takes any type of history of severe organ failure and\n",
    "    gives back an output associated with the medical criteria. Examples are shown below...\n",
    "    \n",
    "    \n",
    "    >>>organ_failure_history([\"Elective\"],ORGAN_CONFIG_FILE )\n",
    "    2\n",
    "    \n",
    "    \n",
    "    >>>organ_failure_history([\"Emergency\"],ORGAN_CONFIG_FILE )\n",
    "    5\n",
    "    \"\"\"\n",
    "    \n",
    "    score = 0\n",
    "    \n",
    "    ### BEGIN SOLUTION\n",
    "    \n",
    "    config = json.load(open(config_file))\n",
    "    organ_failure_score = config.get(\"Organ Failure History\")\n",
    "    \n",
    "    for organ in organ_failure:\n",
    "        if organ in organ_failure_score:\n",
    "            score = organ_failure_score.get(organ)\n",
    "    \n",
    "    ### END SOLUTION\n",
    "\n",
    "    return score"
   ]
  },
  {
   "cell_type": "code",
   "execution_count": 3,
   "metadata": {},
   "outputs": [],
   "source": [
    "config_file = \"apache.json\""
   ]
  },
  {
   "cell_type": "code",
   "execution_count": 4,
   "metadata": {},
   "outputs": [
    {
     "data": {
      "text/plain": [
       "5"
      ]
     },
     "execution_count": 4,
     "metadata": {},
     "output_type": "execute_result"
    }
   ],
   "source": [
    "organ_failure_history([\"Emergency\"], config_file)"
   ]
  },
  {
   "cell_type": "code",
   "execution_count": 5,
   "metadata": {},
   "outputs": [],
   "source": [
    "config = json.load(open(config_file))"
   ]
  },
  {
   "cell_type": "code",
   "execution_count": 6,
   "metadata": {},
   "outputs": [],
   "source": [
    "organ_failure_score = config.get(\"Organ Failure History\")"
   ]
  },
  {
   "cell_type": "code",
   "execution_count": 7,
   "metadata": {},
   "outputs": [
    {
     "data": {
      "text/plain": [
       "dict"
      ]
     },
     "execution_count": 7,
     "metadata": {},
     "output_type": "execute_result"
    }
   ],
   "source": [
    "type(organ_failure_score)"
   ]
  },
  {
   "cell_type": "code",
   "execution_count": 8,
   "metadata": {},
   "outputs": [
    {
     "data": {
      "text/plain": [
       "0"
      ]
     },
     "execution_count": 8,
     "metadata": {},
     "output_type": "execute_result"
    }
   ],
   "source": [
    "organ_failure_history([\"None\"], config_file)"
   ]
  },
  {
   "cell_type": "code",
   "execution_count": 9,
   "metadata": {},
   "outputs": [],
   "source": [
    "import json\n",
    "def score(val, config_file, range_name):\n",
    "    \"\"\" int, str, str -> int\n",
    "    This function takes any value in the json file and \n",
    "    gives back an output associated with the medical criteria. Examples are shown below...\n",
    "    \n",
    "    \n",
    "    >>>score(38, config_file, \"Respiratory Rate\")\n",
    "    3\n",
    "    \n",
    "    \n",
    "    >>>score(120, config_file, \"Heart Rate\")\n",
    "    2\n",
    "    \"\"\"\n",
    "        \n",
    "    \n",
    "    score = 0\n",
    "    \n",
    "    ### BEGIN SOLUTION\n",
    "    \n",
    "    config = json.load(open(config_file))\n",
    "    rules = config.get(range_name)\n",
    "    \n",
    "    for rule in rules:\n",
    "        if val >= rule.get('min') and val < rule.get('max'):\n",
    "            score = rule.get('points')\n",
    "        \n",
    "    \n",
    "    ### END SOLUTION\n",
    "\n",
    "    return score"
   ]
  },
  {
   "cell_type": "code",
   "execution_count": 10,
   "metadata": {},
   "outputs": [
    {
     "data": {
      "text/plain": [
       "6"
      ]
     },
     "execution_count": 10,
     "metadata": {},
     "output_type": "execute_result"
    }
   ],
   "source": [
    "score(80, config_file, \"Age\")"
   ]
  },
  {
   "cell_type": "code",
   "execution_count": 11,
   "metadata": {},
   "outputs": [],
   "source": [
    "import json\n",
    "\n",
    "def PaO2_score(FiO2, PaO2, config_file):\n",
    "    \"\"\" int, int, str -> int\n",
    "    This function takes the FiO2 levels and PaO2 levels (if FiO2<50%) \n",
    "    and outputs a score value. Examples are shown below...\n",
    "    \n",
    "    >>>(PaO2_score(36, 60, config_file)\n",
    "    3\n",
    "    \n",
    "    \n",
    "    >>>(PaO2_score(49, 71, config_file)\n",
    "    0\n",
    "    \"\"\"\n",
    "    \n",
    "    score = 0  \n",
    "    \n",
    "    ### BEGIN SOLUTION\n",
    "    \n",
    "    config = json.load(open(config_file))\n",
    "    FiO2_rules = config.get(\"FiO2\")\n",
    "    PaO2_rules = {}\n",
    "    \n",
    "    try:\n",
    "        for rule in FiO2_rules:\n",
    "            if FiO2 >= rule.get('min') and FiO2 < rule.get('max'):\n",
    "                PaO2_rules = rule.get(\"PaO2\")\n",
    "\n",
    "        for PaO2_rule in PaO2_rules:\n",
    "            if PaO2 >= PaO2_rule.get('min') and PaO2 < PaO2_rule.get('max'):\n",
    "                score = PaO2_rule.get('points')\n",
    "            \n",
    "    except:\n",
    "        score= 0\n",
    "            \n",
    "    \n",
    "    ### END SOLUTION\n",
    "\n",
    "    return score\n",
    "\n",
    "    "
   ]
  },
  {
   "cell_type": "code",
   "execution_count": 12,
   "metadata": {},
   "outputs": [],
   "source": [
    "import json\n",
    "\n",
    "def Aa_Gradient_score(FiO2, Aa_Gradient, config_file):\n",
    "    \"\"\" int, int, str -> int\n",
    "    This function takes the FiO2 levels and Aa_Gradient levels (if FiO2>50%) \n",
    "    and outputs a score value. Examples are shown below...\n",
    "    >>>(Aa_Gradient_score(54, 600, config_file)\n",
    "    4\n",
    "    \n",
    "    >>>(Aa_Gradient_score(53, 370, config_file)\n",
    "    3\n",
    "    \"\"\"\n",
    "    \n",
    "    score = 0\n",
    "    \n",
    "    ### BEGIN SOLUTION\n",
    "    \n",
    "    config = json.load(open(config_file))\n",
    "    FiO2_rules = config.get(\"FiO2\")\n",
    "    Aa_Gradient_rules = {}\n",
    "    \n",
    "    try:\n",
    "        for rule in FiO2_rules:\n",
    "            if FiO2 >= rule.get('min') and FiO2 < rule.get('max'):\n",
    "                Aa_Gradient_rules = rule.get(\"A-a gradient\")\n",
    "\n",
    "        for rule in Aa_Gradient_rules:\n",
    "            if Aa_Gradient >= rule.get('min') and Aa_Gradient < rule.get('max'):\n",
    "                score = rule.get('points')\n",
    "    except: \n",
    "        score = 0\n",
    "            \n",
    "    \n",
    "    \n",
    "    ### END SOLUTION\n",
    "\n",
    "    return score"
   ]
  },
  {
   "cell_type": "code",
   "execution_count": 13,
   "metadata": {},
   "outputs": [],
   "source": [
    "config_file = \"apache.json\""
   ]
  },
  {
   "cell_type": "code",
   "execution_count": 14,
   "metadata": {},
   "outputs": [],
   "source": [
    "config = json.load(open(config_file))"
   ]
  },
  {
   "cell_type": "code",
   "execution_count": 15,
   "metadata": {},
   "outputs": [],
   "source": [
    "FiO2_rules = config.get(\"FiO2\")"
   ]
  },
  {
   "cell_type": "code",
   "execution_count": 16,
   "metadata": {},
   "outputs": [],
   "source": [
    "import json\n",
    "\n",
    "def acute_renal_score(Creatinine, renal_failure, config_file):\n",
    "    \"\"\" int, string, string -> int\n",
    "    This function takes the creatinine levels and acute renal failure and outputs a score value. \n",
    "    Examples are below...\n",
    "    >>>acute_renal_score(1.7, \"Acute Renal Failure\", config_file)\n",
    "    4\n",
    "    >>>acute_renal_score(2.5, \"Acute Renal Failure\", config_file)\n",
    "    6\n",
    "    \"\"\"\n",
    "    \n",
    "    A_score = 0\n",
    "    \n",
    "    ### BEGIN SOLUTION\n",
    "    \n",
    "    config = json.load(open(config_file))\n",
    "    Creatinine_rules = config.get(\"Creatinine\")\n",
    "    \n",
    "    \n",
    "    try:\n",
    "        for rule in Creatinine_rules:\n",
    "            Acute_Renal_Failure= Creatinine_rules.get(\"Acute Renal Failure\")\n",
    "        \n",
    "        for rule in Acute_Renal_Failure:\n",
    "            if Creatinine >= rule.get('min') and Creatinine < rule.get('max') and renal_failure== \"Acute Renal Failure\":\n",
    "                A_score = rule.get('points')\n",
    "                \n",
    "    except:\n",
    "        A_score= 0\n",
    "            \n",
    "    \n",
    "    ### END SOLUTION\n",
    "\n",
    "    return A_score"
   ]
  },
  {
   "cell_type": "code",
   "execution_count": 17,
   "metadata": {},
   "outputs": [],
   "source": [
    "import json\n",
    "\n",
    "def chronic_renal_score(Creatinine, renal_failure, config_file):\n",
    "    \"\"\" int, string, string -> int\n",
    "    This function takes the creatinine levels and chronic renal failure and outputs a score value. \n",
    "    Examples are below...\n",
    "    >>>chronic_renal_score(4, \"Chronic Renal Failure\" config_file)\n",
    "    4\n",
    "    >>>chronic_renal_score(2.7, \"Chronic Renal Failure\" config_file)\n",
    "    3\n",
    "    \"\"\"\n",
    "    \n",
    "    C_score = 0\n",
    "    \n",
    "    ### BEGIN SOLUTION\n",
    "    \n",
    "    config = json.load(open(config_file))\n",
    "    Creatinine_rules = config.get(\"Creatinine\")\n",
    "    \n",
    "    \n",
    "    try:\n",
    "        for rule in Creatinine_rules:\n",
    "            Chronic_Renal_Failure= Creatinine_rules.get(\"Chronic Renal Failure\")\n",
    "        \n",
    "        for rule in Chronic_Renal_Failure:\n",
    "            if Creatinine >= rule.get('min') and Creatinine < rule.get('max') and renal_failure== \"Chronic Renal Failure\":\n",
    "                C_score = rule.get('points')\n",
    "                \n",
    "        \n",
    "            \n",
    "                \n",
    "\n",
    "        \n",
    "            \n",
    "    except:\n",
    "        C_score= 0\n",
    "            \n",
    "    \n",
    "    ### END SOLUTION\n",
    "\n",
    "    return C_score"
   ]
  },
  {
   "cell_type": "code",
   "execution_count": 18,
   "metadata": {},
   "outputs": [],
   "source": [
    "import json\n",
    "\n",
    "def creatinine_score(Creatinine, config_file):\n",
    "    \"\"\" int,string -> int\n",
    "    This function takes the creatinine levels and outputs a score value. Examples are below...\n",
    "    >>>(creatinine_score(1.3, config_file)\n",
    "    0\n",
    "    >>>creatinine_score(0.3, config_file)\n",
    "    2\n",
    "    \"\"\"\n",
    "    \n",
    "    N_score = 0\n",
    "    \n",
    "    ### BEGIN SOLUTION\n",
    "    \n",
    "    config = json.load(open(config_file))\n",
    "    Creatinine_rules = config.get(\"Creatinine\")\n",
    "    \n",
    "    \n",
    "    try:\n",
    "        for rule in Creatinine_rules:\n",
    "            No_Failure_rules= Creatinine_rules.get(\"No Failure\")\n",
    "        \n",
    "        for rule in No_Failure_rules:\n",
    "            if Creatinine >= rule.get('min') and Creatinine < rule.get('max'):\n",
    "                N_score = rule.get('points')\n",
    "                \n",
    "        \n",
    "            \n",
    "                \n",
    "\n",
    "        \n",
    "            \n",
    "    except:\n",
    "        N_score= 0\n",
    "            \n",
    "    \n",
    "    ### END SOLUTION\n",
    "\n",
    "    return N_score"
   ]
  },
  {
   "cell_type": "code",
   "execution_count": 19,
   "metadata": {},
   "outputs": [],
   "source": [
    "ORGAN_CONFIG_FILE= 'apache.json'"
   ]
  },
  {
   "cell_type": "markdown",
   "metadata": {},
   "source": [
    "### Testing you Functions\n",
    "\n",
    "Write enough test cases to verify that your functions work for evaulating all of the scoring inputs.  Have at least 3 test cases for each input.\n",
    "\n",
    "These tests can be written the same as the assertions we've use in previous assignments.  For example, if you have a function for `temperature_score` then you write a test case like:\n",
    "\n",
    "```\n",
    "assert( temperature_score(37) == 0 )\n",
    "```"
   ]
  },
  {
   "cell_type": "code",
   "execution_count": 20,
   "metadata": {},
   "outputs": [],
   "source": [
    "config_file= \"apache.json\""
   ]
  },
  {
   "cell_type": "code",
   "execution_count": 21,
   "metadata": {},
   "outputs": [],
   "source": [
    "assert(organ_failure_history([\"Nonoperative\"],ORGAN_CONFIG_FILE ) == 5)\n",
    "assert(organ_failure_history([],ORGAN_CONFIG_FILE ) == 0)\n",
    "assert(organ_failure_history([\"Emergency\"],ORGAN_CONFIG_FILE ) == 5)\n",
    "assert(organ_failure_history([\"Elective\"],ORGAN_CONFIG_FILE ) == 2)"
   ]
  },
  {
   "cell_type": "code",
   "execution_count": 22,
   "metadata": {},
   "outputs": [],
   "source": [
    "assert(score(48, config_file, \"Age\")== 2)\n",
    "assert(score(38.7, config_file, \"Temperature\")== 1)\n",
    "assert(score(120, config_file, \"Heart Rate\")== 2)\n",
    "assert(score(38, config_file, \"Respiratory Rate\")== 3)"
   ]
  },
  {
   "cell_type": "code",
   "execution_count": 23,
   "metadata": {},
   "outputs": [],
   "source": [
    "assert(PaO2_score(49, 57, config_file)==3)\n",
    "assert(PaO2_score(48, 54, config_file)==4)\n",
    "assert(PaO2_score(47, 62, config_file)==1)\n",
    "assert(PaO2_score(51, 62, config_file)==0)\n",
    "assert(PaO2_score(49, 71, config_file)==0)\n",
    "assert(PaO2_score(36, 60, config_file)==3)"
   ]
  },
  {
   "cell_type": "code",
   "execution_count": 24,
   "metadata": {},
   "outputs": [],
   "source": [
    "assert(Aa_Gradient_score(51, 200, config_file)==2)\n",
    "assert(Aa_Gradient_score(49, 200, config_file)==0)\n",
    "assert(Aa_Gradient_score(53, 370, config_file)==3)\n",
    "assert(Aa_Gradient_score(54, 600, config_file)==4)"
   ]
  },
  {
   "cell_type": "code",
   "execution_count": 25,
   "metadata": {},
   "outputs": [],
   "source": [
    "assert(acute_renal_score(4, \"Acute Renal Failure\", config_file)==8)\n",
    "assert(acute_renal_score(2.5, \"Acute Renal Failure\", config_file)==6)\n",
    "assert(acute_renal_score(1.7, \"Acute Renal Failure\", config_file)==4)"
   ]
  },
  {
   "cell_type": "code",
   "execution_count": 26,
   "metadata": {},
   "outputs": [],
   "source": [
    "assert(chronic_renal_score(4, \"Chronic Renal Failure\" , config_file)==4)\n",
    "assert(chronic_renal_score(2.7, \"Chronic Renal Failure\" , config_file)==3)\n",
    "assert(chronic_renal_score(1.8, \"Chronic Renal Failure\" , config_file)==2)"
   ]
  },
  {
   "cell_type": "code",
   "execution_count": 27,
   "metadata": {},
   "outputs": [],
   "source": [
    "assert(creatinine_score(1.3, config_file)==0)\n",
    "assert(creatinine_score(0.3, config_file)==2)"
   ]
  },
  {
   "cell_type": "markdown",
   "metadata": {},
   "source": [
    "---\n",
    "\n",
    "## Part 3: Put it all together\n",
    "\n",
    "Create a new function called `apache_score()` that takes all of the necessary inputs and returns the final Apache II score.  Use any variable names that you want.  For clarity and organization, my recommendation is to create them in the same order as they're documented in the website.\n",
    "\n",
    "1. Organ Failure History\n",
    "2. Age\n",
    "3. Temperature\n",
    "4. pH \n",
    "5. Heart rate\n",
    "6. Respiratory rate\n",
    "7. Sodium\n",
    "8. Potassium\n",
    "9. Creatinine\n",
    "10. Acute renal failure\n",
    "11. Hematocrit\n",
    "12. White Blood Count\n",
    "13. Glasgow Coma Scale\n",
    "14. FiO2\n",
    "15. PaO2\n",
    "16. A-a gradient\n"
   ]
  },
  {
   "cell_type": "code",
   "execution_count": 28,
   "metadata": {},
   "outputs": [],
   "source": [
    "def apache_score(organ_failure, Age, Temp, pH, HR, RR, Na, K, Creatinine, renal_failure, Hema, WBC, Glasgow, FiO2, PaO2, Aa_Gradient):\n",
    "    ap_score=0\n",
    "    \"\"\"\n",
    "    This function takes all the values from the Apache II medical criteria and gives back an output.\n",
    "    Examples are shown below...\n",
    "    \n",
    "    >>>>(apache_score([\"Elective\"], 3, 4, 7.2, 74, 53, 106, 3.2, 1.2, \"Acute Renal Failure\", 60, 22, 11, 66, 59, 482)\n",
    "    31\n",
    "    \n",
    "    >>>>(apache_score([\"Nonoperative\"], 62, 28, 7.1, 56, 7, 177, 0.4, 1.6, \"Acute Renal Failure\", 38, 50, 7, 57, 74, 527)\n",
    "    47\n",
    "    \"\"\"\n",
    "    config_file = \"apache.json\"\n",
    "    ap_score += organ_failure_history(organ_failure, config_file)\n",
    "    ap_score += score(Age, config_file,\"Age\")\n",
    "    ap_score += score(Temp, config_file,\"Temperature\")\n",
    "    ap_score += score(pH, config_file,\"pH\")\n",
    "    ap_score += score(HR, config_file,\"Heart Rate\")\n",
    "    ap_score += score(RR, config_file,\"Respiratory Rate\")\n",
    "    ap_score += score(Na, config_file,\"Sodium\")\n",
    "    ap_score += score(K, config_file,\"Potassium\")\n",
    "    ap_score += creatinine_score(Creatinine, config_file)\n",
    "    ap_score += acute_renal_score(Creatinine, renal_failure, config_file)\n",
    "    ap_score += chronic_renal_score(Creatinine, renal_failure, config_file)\n",
    "    ap_score += score(Hema, config_file,\"Hematocrit\")\n",
    "    ap_score += score(WBC, config_file,\"White Blood Count\")\n",
    "    ap_score += 15- Glasgow\n",
    "    ap_score += Aa_Gradient_score(FiO2, Aa_Gradient, config_file)\n",
    "    ap_score += PaO2_score(FiO2, PaO2, config_file) \n",
    "    return ap_score"
   ]
  },
  {
   "cell_type": "code",
   "execution_count": 29,
   "metadata": {},
   "outputs": [
    {
     "data": {
      "text/plain": [
       "31"
      ]
     },
     "execution_count": 29,
     "metadata": {},
     "output_type": "execute_result"
    }
   ],
   "source": [
    "apache_score([\"None\"], 50, 32, 7.7, 10, 26, 144, 6.2, 1.8, \"Chronic Renal Failure\", 56, 50, 9, 41, 61, 217)"
   ]
  },
  {
   "cell_type": "markdown",
   "metadata": {},
   "source": [
    "### Testing your Function\n",
    "\n",
    "Write a few test cases to make sure that your code functions correctly.  In the last step, you'll have LOTS of test cases to run through, but you should do some of own your before moving on."
   ]
  },
  {
   "cell_type": "code",
   "execution_count": 30,
   "metadata": {},
   "outputs": [],
   "source": [
    "assert(apache_score([\"Elective\"], 3, 4, 7.2, 74, 53, 106, 3.2, 1.2, \"Acute Renal Failure\", 60, 22, 11, 66, 59, 482)==31)\n",
    "assert(apache_score([\"Nonoperative\"], 62, 28, 7.1, 56, 7, 177, 0.4, 1.6, \"Acute Renal Failure\", 38, 50, 7, 57, 74, 527)==47)\n",
    "assert(apache_score([\"Nonoperative\"], 10, 32, 7.7, 10, 26, 144, 6.2, 1.8, \"Chronic Renal Failure\", 56, 50, 9, 41, 61, 217)==34)"
   ]
  },
  {
   "cell_type": "markdown",
   "metadata": {},
   "source": [
    "---\n",
    "\n",
    "## Part 4: Accessing and processing the patient file\n",
    "\n",
    "Fill out the simple function below to retrieve the patient data as a CSV file from any given URL and return a list of all of the Apache II scores based on the data you find for those patients.\n",
    "* The patient file will be a CSV\n",
    "* It will have column headers that match the labels shown above\n",
    "* The columns will not necessarily appear in the order shown above\n",
    "* You should output only the Apache II scores, not any other information\n",
    "* Your output should be a list in the same order as the input rows"
   ]
  },
  {
   "cell_type": "code",
   "execution_count": 31,
   "metadata": {},
   "outputs": [],
   "source": [
    "import requests\n",
    "import csv\n",
    "url= 'https://hds5210-2020.s3.amazonaws.com/TestPatients.csv'\n",
    "with requests.Session() as s:\n",
    "    download= s.get(url)\n",
    "    \n",
    "decoded_content= download.content.decode('utf-8')\n",
    "    \n",
    "cr=csv.reader(decoded_content.splitlines(), delimiter= ',')\n",
    "patients= list(cr)"
   ]
  },
  {
   "cell_type": "code",
   "execution_count": null,
   "metadata": {},
   "outputs": [],
   "source": [
    "patients"
   ]
  },
  {
   "cell_type": "code",
   "execution_count": null,
   "metadata": {},
   "outputs": [],
   "source": [
    "for patient in patients:\n",
    "    scores=[apache_score(patient[0], int(patient[1]), int(patient[2]), float(pa), int(HR[val]), int(RR[val]), int(Na[val]), float(K[val]), float(Cr[val]), rf[val], int(He[val]), int(WBC[val]), int(Gl[val]), int(Fi[val]), int(Pa[val]), int(Aa[val]))\n",
    "    \n",
    "    "
   ]
  },
  {
   "cell_type": "code",
   "execution_count": 32,
   "metadata": {},
   "outputs": [],
   "source": [
    "ID=[]\n",
    "organ=[]\n",
    "Age=[]\n",
    "pH=[]\n",
    "temp=[]\n",
    "HR=[]\n",
    "RR=[]\n",
    "Na=[]\n",
    "K=[]\n",
    "Cr=[]\n",
    "rf=[]\n",
    "He=[]\n",
    "WBC=[]\n",
    "Gl=[]\n",
    "Fi=[]\n",
    "Pa=[]\n",
    "Aa=[]\n",
    "for patient in patients:\n",
    "    ID.append(patient[0])\n",
    "    organ.append(patient[1])\n",
    "    Age.append(patient[2])\n",
    "    temp.append(patient[3])\n",
    "    pH.append(patient[4])\n",
    "    HR.append(patient[5])\n",
    "    RR.append(patient[6])\n",
    "    Na.append(patient[7])\n",
    "    K.append(patient[8])\n",
    "    Cr.append(patient[9])\n",
    "    rf.append(patient[10])\n",
    "    He.append(patient[11])\n",
    "    WBC.append(patient[12])\n",
    "    Gl.append(patient[13])\n",
    "    Fi.append(patient[14])\n",
    "    Pa.append(patient[15])\n",
    "    Aa.append(patient[16])"
   ]
  },
  {
   "cell_type": "code",
   "execution_count": 34,
   "metadata": {},
   "outputs": [],
   "source": [
    "for patient in patients:\n",
    "    patient[1]"
   ]
  },
  {
   "cell_type": "code",
   "execution_count": null,
   "metadata": {},
   "outputs": [],
   "source": [
    "apache_2_scores=[]\n",
    "val=1\n",
    "length=335\n",
    "while val<length:\n",
    "    scores=[apache_score([organ[val]], int(Age[val]), int(temp[val]), float(pH[val]), int(HR[val]), int(RR[val]), int(Na[val]), float(K[val]), float(Cr[val]), rf[val], int(He[val]), int(WBC[val]), int(Gl[val]), int(Fi[val]), int(Pa[val]), int(Aa[val]))]\n",
    "    val+= 1\n",
    "    apache_2_scores.append(scores)\n"
   ]
  },
  {
   "cell_type": "markdown",
   "metadata": {},
   "source": [
    "### Testing your Function\n",
    "\n",
    "The URL for the test data is: https://hds5210-2020.s3.amazonaws.com/TestPatients.csv\n",
    "\n",
    "\n",
    "You can verify your results by comparing them against this data: https://hds5210-2020.s3.amazonaws.com/Scores.csv\n",
    "\n",
    "**CORRECTION ADDED 3/29** - If you calculated the Glasgow Coma Scale points as per the actual instructions in MDCalc, then please use this set of corrected scores to compare your results with: https://hds5210-2020.s3.amazonaws.com/Scores_corrected.csv\n"
   ]
  },
  {
   "cell_type": "code",
   "execution_count": null,
   "metadata": {},
   "outputs": [],
   "source": [
    "apache_2_scores"
   ]
  },
  {
   "cell_type": "code",
   "execution_count": null,
   "metadata": {},
   "outputs": [],
   "source": []
  }
 ],
 "metadata": {
  "kernelspec": {
   "display_name": "Python 3",
   "language": "python",
   "name": "python3"
  },
  "language_info": {
   "codemirror_mode": {
    "name": "ipython",
    "version": 3
   },
   "file_extension": ".py",
   "mimetype": "text/x-python",
   "name": "python",
   "nbconvert_exporter": "python",
   "pygments_lexer": "ipython3",
   "version": "3.6.7"
  }
 },
 "nbformat": 4,
 "nbformat_minor": 4
}
